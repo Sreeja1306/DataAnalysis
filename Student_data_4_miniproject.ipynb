{
  "cells": [
    {
      "cell_type": "markdown",
      "metadata": {},
      "source": [
        "df  ccvf"
      ]
    },
    {
      "cell_type": "markdown",
      "metadata": {},
      "source": [
        "### 1. Why This Project?\n",
        "\n",
        "- Understand factors behind student performance\n",
        "- Clean, standardize numeric/categorical columns\n",
        "- Visualize distributions and relationships\n",
        "- Reusable template for student datasets\n"
      ]
    },
    {
      "cell_type": "code",
      "execution_count": null,
      "metadata": {},
      "outputs": [],
      "source": [
        "# 2. Import Libraries\n",
        "import numpy as np\n",
        "import pandas as pd\n",
        "import matplotlib.pyplot as plt\n",
        "import seaborn as sns\n",
        "sns.set_theme(style=\"whitegrid\")\n"
      ]
    },
    {
      "cell_type": "code",
      "execution_count": null,
      "metadata": {},
      "outputs": [],
      "source": [
        "# 3. Load Dataset\n",
        "csv_path = \"Student data 4.csv\"\n",
        "\n",
        "df = pd.read_csv(csv_path)\n",
        "df.head()\n"
      ]
    },
    {
      "cell_type": "code",
      "execution_count": null,
      "metadata": {},
      "outputs": [],
      "source": [
        "# 4. Explore Data\n",
        "print(\"Shape:\", df.shape)\n",
        "print()\n",
        "print(df.info())\n",
        "print()\n",
        "print(df.describe(include='all'))\n",
        "print()\n",
        "print(\"Missing values per column:\\n\", df.isnull().sum())\n"
      ]
    },
    {
      "cell_type": "code",
      "execution_count": null,
      "metadata": {},
      "outputs": [],
      "source": [
        "# 5. Data Cleaning (generic)\n",
        "# Numeric columns: fill missing with median\n",
        "numeric_cols = df.select_dtypes(include=[\"number\"]).columns\n",
        "for col in numeric_cols:\n",
        "    df[col] = df[col].fillna(df[col].median())\n",
        "\n",
        "# Categorical columns: fill missing with mode\n",
        "categorical_cols = df.select_dtypes(exclude=[\"number\"]).columns\n",
        "for col in categorical_cols:\n",
        "    if df[col].isnull().any():\n",
        "        df[col] = df[col].fillna(df[col].mode()[0])\n",
        "\n",
        "# Drop duplicate rows if any\n",
        "df = df.drop_duplicates().reset_index(drop=True)\n",
        "\n",
        "df.head()\n"
      ]
    },
    {
      "cell_type": "code",
      "execution_count": null,
      "metadata": {},
      "outputs": [],
      "source": [
        "# 6. Analysis (generic)\n",
        "# Simple statistics on numeric columns\n",
        "stats = df[numeric_cols].agg(['mean','median','std','min','max']).T\n",
        "print(stats)\n",
        "\n",
        "# Correlation among numeric features\n",
        "corr = df[numeric_cols].corr()\n",
        "print(\"\\nCorrelation matrix (numeric features):\\n\", corr)\n"
      ]
    },
    {
      "cell_type": "code",
      "execution_count": null,
      "metadata": {},
      "outputs": [],
      "source": [
        "# 7. Visualizations\n",
        "# 7.1 Histograms for numeric columns\n",
        "num_cols_to_plot = numeric_cols[:6]\n",
        "_df = df[num_cols_to_plot]\n",
        "_df.hist(figsize=(12, 8), bins=15)\n",
        "plt.suptitle(\"Histograms (numeric features)\")\n",
        "plt.show()\n",
        "\n",
        "# 7.2 Boxplots for numeric columns\n",
        "plt.figure(figsize=(12, 6))\n",
        "sns.boxplot(data=_df)\n",
        "plt.title(\"Boxplots (numeric features)\")\n",
        "plt.xticks(rotation=45)\n",
        "plt.show()\n",
        "\n",
        "# 7.3 Heatmap of correlation\n",
        "plt.figure(figsize=(8, 6))\n",
        "sns.heatmap(corr, annot=True, cmap='coolwarm', fmt='.2f')\n",
        "plt.title(\"Correlation Heatmap (numeric features)\")\n",
        "plt.show()\n"
      ]
    },
    {
      "cell_type": "code",
      "execution_count": null,
      "metadata": {},
      "outputs": [],
      "source": [
        "# 8. Save cleaned data (optional)\n",
        "cleaned_path = \"Student_data_4_cleaned.csv\"\n",
        "df.to_csv(cleaned_path, index=False)\n",
        "print(f\"Saved cleaned data to: {cleaned_path}\")\n"
      ]
    }
  ],
  "metadata": {
    "language_info": {
      "name": "python"
    }
  },
  "nbformat": 4,
  "nbformat_minor": 2
}
