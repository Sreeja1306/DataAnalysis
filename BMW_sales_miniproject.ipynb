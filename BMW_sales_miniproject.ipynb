{
  "cells": [
    {
      "cell_type": "markdown",
      "metadata": {},
      "source": [
        "### Goal:\n",
        "## End-to-end mini project on `BMW sales data (2010-2024) (1).csv`: load, explore trends, clean, analyze, and visualize time series patterns.\n"
      ]
    },
    {
      "cell_type": "markdown",
      "metadata": {},
      "source": [
        "### 1. Why This Project?\n",
        "\n",
        "- Understand sales trends over time\n",
        "- Clean missing entries and standardize numeric fields\n",
        "- Visualize trends and correlations to derive insights\n",
        "- Reusable analysis template for CSV sales datasets\n"
      ]
    },
    {
      "cell_type": "code",
      "execution_count": null,
      "metadata": {},
      "outputs": [],
      "source": [
        "# 2. Import Libraries\n",
        "import numpy as np\n",
        "import pandas as pd\n",
        "import matplotlib.pyplot as plt\n",
        "import seaborn as sns\n",
        "sns.set_theme(style=\"whitegrid\")\n"
      ]
    },
    {
      "cell_type": "code",
      "execution_count": null,
      "metadata": {},
      "outputs": [],
      "source": [
        "# 3. Load Dataset\n",
        "csv_path = \"BMW sales data (2010-2024) (1).csv\"\n",
        "\n",
        "df = pd.read_csv(csv_path)\n",
        "df.head()\n"
      ]
    },
    {
      "cell_type": "code",
      "execution_count": null,
      "metadata": {},
      "outputs": [],
      "source": [
        "# 4. Explore Data\n",
        "print(\"Shape:\", df.shape)\n",
        "print()\n",
        "print(df.info())\n",
        "print()\n",
        "print(df.describe(include='all'))\n",
        "print()\n",
        "print(\"Missing values per column:\\n\", df.isnull().sum())\n"
      ]
    },
    {
      "cell_type": "code",
      "execution_count": null,
      "metadata": {},
      "outputs": [],
      "source": [
        "# 5. Data Cleaning (generic)\n",
        "# Numeric columns: fill missing with median\n",
        "numeric_cols = df.select_dtypes(include=[\"number\"]).columns\n",
        "for col in numeric_cols:\n",
        "    df[col] = df[col].fillna(df[col].median())\n",
        "\n",
        "# Categorical columns: fill missing with mode\n",
        "categorical_cols = df.select_dtypes(exclude=[\"number\"]).columns\n",
        "for col in categorical_cols:\n",
        "    if df[col].isnull().any():\n",
        "        df[col] = df[col].fillna(df[col].mode()[0])\n",
        "\n",
        "# Drop duplicate rows if any\n",
        "df = df.drop_duplicates().reset_index(drop=True)\n",
        "\n",
        "df.head()\n"
      ]
    },
    {
      "cell_type": "code",
      "execution_count": null,
      "metadata": {},
      "outputs": [],
      "source": [
        "# 6. Analysis (generic)\n",
        "# Simple statistics on numeric columns\n",
        "stats = df[numeric_cols].agg(['mean','median','std','min','max']).T\n",
        "print(stats)\n",
        "\n",
        "# Correlation among numeric features\n",
        "corr = df[numeric_cols].corr()\n",
        "print(\"\\nCorrelation matrix (numeric features):\\n\", corr)\n"
      ]
    },
    {
      "cell_type": "code",
      "execution_count": null,
      "metadata": {},
      "outputs": [],
      "source": [
        "# 7. Visualizations\n",
        "# 7.1 Time series line plot if date-like column exists\n",
        "# Try to detect a date column\n",
        "potential_date_cols = [c for c in df.columns if 'date' in c.lower() or 'year' in c.lower() or 'month' in c.lower()]\n",
        "\n",
        "if potential_date_cols:\n",
        "    date_col = potential_date_cols[0]\n",
        "    try:\n",
        "        df_sorted = df.copy()\n",
        "        df_sorted[date_col] = pd.to_datetime(df_sorted[date_col], errors='coerce')\n",
        "        df_sorted = df_sorted.sort_values(by=date_col)\n",
        "        # choose first numeric to plot\n",
        "        y_col = next((c for c in numeric_cols if c != date_col), None)\n",
        "        if y_col is not None:\n",
        "            plt.figure(figsize=(10,5))\n",
        "            plt.plot(df_sorted[date_col], df_sorted[y_col], marker='o')\n",
        "            plt.title(f\"{y_col} over {date_col}\")\n",
        "            plt.xlabel(date_col)\n",
        "            plt.ylabel(y_col)\n",
        "            plt.xticks(rotation=45)\n",
        "            plt.tight_layout()\n",
        "            plt.show()\n",
        "    except Exception as e:\n",
        "        print(\"Skipping time series plot:\", e)\n",
        "\n",
        "# 7.2 Correlation heatmap\n",
        "import numpy as np\n",
        "corr = df[numeric_cols].corr()\n",
        "plt.figure(figsize=(8,6))\n",
        "sns.heatmap(corr, annot=True, cmap='coolwarm', fmt='.2f')\n",
        "plt.title(\"Correlation Heatmap (numeric features)\")\n",
        "plt.show()\n"
      ]
    },
    {
      "cell_type": "code",
      "execution_count": null,
      "metadata": {},
      "outputs": [],
      "source": [
        "# 8. Save cleaned data (optional)\n",
        "cleaned_path = \"BMW_sales_cleaned.csv\"\n",
        "df.to_csv(cleaned_path, index=False)\n",
        "print(f\"Saved cleaned data to: {cleaned_path}\")\n"
      ]
    }
  ],
  "metadata": {
    "language_info": {
      "name": "python"
    }
  },
  "nbformat": 4,
  "nbformat_minor": 2
}
